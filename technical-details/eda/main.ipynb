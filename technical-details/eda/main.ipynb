{
 "cells": [
  {
   "cell_type": "markdown",
   "metadata": {
    "vscode": {
     "languageId": "raw"
    }
   },
   "source": [
    "---\n",
    "title: \"Exploratory Data Analysis\"\n",
    "format:\n",
    "    html: \n",
    "        code-fold: true\n",
    "---"
   ]
  },
  {
   "cell_type": "markdown",
   "metadata": {},
   "source": [
    "<!-- After digesting the instructions, you can delete this cell, these are assignment instructions and do not need to be included in your final submission.  -->\n",
    "\n",
    "{{< include instructions.qmd >}} "
   ]
  },
  {
   "cell_type": "markdown",
   "metadata": {},
   "source": [
    "# Code \n",
    "\n",
    "Provide the source code used for this section of the project here.\n",
    "\n",
    "If you're using a package for code organization, you can import it at this point. However, make sure that the **actual workflow steps**—including data processing, analysis, and other key tasks—are conducted and clearly demonstrated on this page. The goal is to show the technical flow of your project, highlighting how the code is executed to achieve your results.\n",
    "\n",
    "If relevant, link to additional documentation or external references that explain any complex components. This section should give readers a clear view of how the project is implemented from a technical perspective.\n",
    "\n",
    "Remember, this page is a technical narrative, NOT just a notebook with a collection of code cells, include in-line Prose, to describe what is going on."
   ]
  },
  {
   "cell_type": "markdown",
   "metadata": {},
   "source": [
    "### Word Cloud\n",
    "- for each driver\n",
    "- top 10 most frequent words in their respective news articles"
   ]
  },
  {
   "cell_type": "code",
   "execution_count": 1,
   "metadata": {},
   "outputs": [],
   "source": [
    "# import required libraries\n",
    "from wordcloud import WordCloud, STOPWORDS\n",
    "import matplotlib.pyplot as plt\n",
    "import json\n",
    "import os"
   ]
  },
  {
   "cell_type": "code",
   "execution_count": 3,
   "metadata": {},
   "outputs": [],
   "source": [
    "# Function to generate a word cloud for a single JSON file\n",
    "def generate_wordcloud_top_n(file_path, output_folder, top_n=10):\n",
    "    def plot_cloud(wordcloud, output_file):\n",
    "        plt.figure(figsize=(10, 8))\n",
    "        plt.imshow(wordcloud, interpolation='bilinear')\n",
    "        plt.axis(\"off\")\n",
    "        plt.savefig(output_file) \n",
    "\n",
    "        plt.close()\n",
    "\n",
    "    # Read the text from the JSON file\n",
    "    with open(file_path, 'r', encoding='utf-8') as file:\n",
    "        data = json.load(file)\n",
    "\n",
    "    # Concatenate all text content if it's a JSON dictionary\n",
    "    if isinstance(data, dict):\n",
    "        my_text = ' '.join(data.values())\n",
    "\n",
    "    # Generate word cloud to extract word frequencies\n",
    "    wordcloud = WordCloud(\n",
    "        width=3000,\n",
    "        height=2000,\n",
    "        random_state=1,\n",
    "        background_color=\"white\",  \n",
    "        colormap=\"Blues\",  \n",
    "        collocations=False,\n",
    "        stopwords=STOPWORDS\n",
    "    ).generate(my_text)\n",
    "\n",
    "    # Extract word frequencies and get the top N words\n",
    "    word_frequencies = wordcloud.words_\n",
    "    top_words = dict(list(word_frequencies.items())[:top_n])\n",
    "\n",
    "    # Generate a new word cloud with only the top N words\n",
    "    top_wordcloud = WordCloud(\n",
    "        width=3000,\n",
    "        height=2000,\n",
    "        random_state=1,\n",
    "        background_color=\"white\",  \n",
    "        colormap=\"Blues\",\n",
    "        collocations=False,\n",
    "        stopwords=STOPWORDS\n",
    "    ).generate_from_frequencies(top_words)\n",
    "\n",
    "    # Save and display the word cloud\n",
    "    file_name = os.path.basename(file_path).replace('.json', '_wordcloud.png')\n",
    "    output_file = os.path.join(output_folder, file_name)\n",
    "    plot_cloud(top_wordcloud, output_file)\n",
    "\n",
    "\n",
    "# Function to process all JSON files in a folder\n",
    "def generate_wordclouds_for_folder(input_folder, output_folder, top_n=10):\n",
    "    os.makedirs(output_folder, exist_ok=True)  \n",
    "\n",
    "    for file_name in os.listdir(input_folder):\n",
    "        if file_name.endswith('.json'):  # Process only JSON files\n",
    "            file_path = os.path.join(input_folder, file_name)\n",
    "            try:\n",
    "                generate_wordcloud_top_n(file_path, output_folder, top_n)\n",
    "            except Exception as e:\n",
    "                print(f\"Error processing file {file_path}: {e}\")\n"
   ]
  },
  {
   "cell_type": "code",
   "execution_count": 4,
   "metadata": {},
   "outputs": [],
   "source": [
    "input_folder = \"../../data/processed-data/News_Drivers/\" \n",
    "output_folder = \"../../data/eda/WordClouds/\"  \n",
    "generate_wordclouds_for_folder(input_folder, output_folder, top_n=20)"
   ]
  },
  {
   "cell_type": "code",
   "execution_count": null,
   "metadata": {},
   "outputs": [],
   "source": [
    "# add each word cloud and interpretation \n",
    "# change the theme"
   ]
  }
 ],
 "metadata": {
  "kernelspec": {
   "display_name": "base",
   "language": "python",
   "name": "python3"
  },
  "language_info": {
   "codemirror_mode": {
    "name": "ipython",
    "version": 3
   },
   "file_extension": ".py",
   "mimetype": "text/x-python",
   "name": "python",
   "nbconvert_exporter": "python",
   "pygments_lexer": "ipython3",
   "version": "3.10.6"
  }
 },
 "nbformat": 4,
 "nbformat_minor": 2
}
