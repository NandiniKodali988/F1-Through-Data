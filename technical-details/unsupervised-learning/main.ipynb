{
 "cells": [
  {
   "cell_type": "markdown",
   "metadata": {},
   "source": [
    "---\n",
    "title: \"Unsupervised Learning\"\n",
    "format:\n",
    "    html: \n",
    "        code-fold: false\n",
    "---"
   ]
  },
  {
   "cell_type": "markdown",
   "metadata": {},
   "source": [
    "<!-- After digesting the instructions, you can delete this cell, these are assignment instructions and do not need to be included in your final submission.  -->\n",
    "\n",
    "{{< include instructions.qmd >}} "
   ]
  },
  {
   "cell_type": "markdown",
   "metadata": {},
   "source": [
    "# Code \n",
    "\n",
    "Provide the source code used for this section of the project here.\n",
    "\n",
    "If you're using a package for code organization, you can import it at this point. However, make sure that the **actual workflow steps**—including data processing, analysis, and other key tasks—are conducted and clearly demonstrated on this page. The goal is to show the technical flow of your project, highlighting how the code is executed to achieve your results.\n",
    "\n",
    "If relevant, link to additional documentation or external references that explain any complex components. This section should give readers a clear view of how the project is implemented from a technical perspective.\n",
    "\n",
    "Remember, this page is a technical narrative, NOT just a notebook with a collection of code cells, include in-line Prose, to describe what is going on."
   ]
  },
  {
   "cell_type": "code",
   "execution_count": 1,
   "metadata": {},
   "outputs": [],
   "source": [
    "# import required libraries\n",
    "import pandas as pd\n",
    "import numpy as np\n",
    "import seaborn as sns\n",
    "import matplotlib.pyplot as plt\n",
    "\n",
    "from sklearn.cluster import KMeans, DBSCAN, AgglomerativeClustering, SpectralClustering\n",
    "from sklearn.metrics import silhouette_score, calinski_harabasz_score\n",
    "from sklearn.neighbors import NearestNeighbors"
   ]
  },
  {
   "cell_type": "code",
   "execution_count": 3,
   "metadata": {},
   "outputs": [
    {
     "data": {
      "text/html": [
       "<div>\n",
       "<style scoped>\n",
       "    .dataframe tbody tr th:only-of-type {\n",
       "        vertical-align: middle;\n",
       "    }\n",
       "\n",
       "    .dataframe tbody tr th {\n",
       "        vertical-align: top;\n",
       "    }\n",
       "\n",
       "    .dataframe thead th {\n",
       "        text-align: right;\n",
       "    }\n",
       "</style>\n",
       "<table border=\"1\" class=\"dataframe\">\n",
       "  <thead>\n",
       "    <tr style=\"text-align: right;\">\n",
       "      <th></th>\n",
       "      <th>Unnamed: 0</th>\n",
       "      <th>Year</th>\n",
       "      <th>Grand Prix</th>\n",
       "      <th>Track Length (m)</th>\n",
       "      <th>Max Speed (km/h)</th>\n",
       "      <th>Full Throttle (%)</th>\n",
       "      <th>Number of Corners</th>\n",
       "      <th>Number of Straights</th>\n",
       "    </tr>\n",
       "  </thead>\n",
       "  <tbody>\n",
       "    <tr>\n",
       "      <th>0</th>\n",
       "      <td>0</td>\n",
       "      <td>2020</td>\n",
       "      <td>Pre-Season Test 1</td>\n",
       "      <td>-1.000607</td>\n",
       "      <td>-0.115670</td>\n",
       "      <td>1.059667</td>\n",
       "      <td>-0.789651</td>\n",
       "      <td>-0.938394</td>\n",
       "    </tr>\n",
       "    <tr>\n",
       "      <th>1</th>\n",
       "      <td>1</td>\n",
       "      <td>2020</td>\n",
       "      <td>Pre-Season Test 2</td>\n",
       "      <td>-1.000607</td>\n",
       "      <td>-0.115670</td>\n",
       "      <td>1.059667</td>\n",
       "      <td>-0.789651</td>\n",
       "      <td>-0.938394</td>\n",
       "    </tr>\n",
       "    <tr>\n",
       "      <th>2</th>\n",
       "      <td>2</td>\n",
       "      <td>2020</td>\n",
       "      <td>Austrian Grand Prix</td>\n",
       "      <td>-1.000607</td>\n",
       "      <td>-0.115670</td>\n",
       "      <td>1.059667</td>\n",
       "      <td>-0.789651</td>\n",
       "      <td>-0.938394</td>\n",
       "    </tr>\n",
       "    <tr>\n",
       "      <th>3</th>\n",
       "      <td>3</td>\n",
       "      <td>2020</td>\n",
       "      <td>Styrian Grand Prix</td>\n",
       "      <td>-1.024865</td>\n",
       "      <td>-1.840980</td>\n",
       "      <td>-1.757479</td>\n",
       "      <td>-0.275003</td>\n",
       "      <td>-0.037811</td>\n",
       "    </tr>\n",
       "    <tr>\n",
       "      <th>4</th>\n",
       "      <td>4</td>\n",
       "      <td>2020</td>\n",
       "      <td>Hungarian Grand Prix</td>\n",
       "      <td>-0.957039</td>\n",
       "      <td>-0.490737</td>\n",
       "      <td>-0.407433</td>\n",
       "      <td>-1.304300</td>\n",
       "      <td>-0.037811</td>\n",
       "    </tr>\n",
       "  </tbody>\n",
       "</table>\n",
       "</div>"
      ],
      "text/plain": [
       "   Unnamed: 0  Year            Grand Prix  Track Length (m)  Max Speed (km/h)  \\\n",
       "0           0  2020     Pre-Season Test 1         -1.000607         -0.115670   \n",
       "1           1  2020     Pre-Season Test 2         -1.000607         -0.115670   \n",
       "2           2  2020   Austrian Grand Prix         -1.000607         -0.115670   \n",
       "3           3  2020    Styrian Grand Prix         -1.024865         -1.840980   \n",
       "4           4  2020  Hungarian Grand Prix         -0.957039         -0.490737   \n",
       "\n",
       "   Full Throttle (%)  Number of Corners  Number of Straights  \n",
       "0           1.059667          -0.789651            -0.938394  \n",
       "1           1.059667          -0.789651            -0.938394  \n",
       "2           1.059667          -0.789651            -0.938394  \n",
       "3          -1.757479          -0.275003            -0.037811  \n",
       "4          -0.407433          -1.304300            -0.037811  "
      ]
     },
     "execution_count": 3,
     "metadata": {},
     "output_type": "execute_result"
    }
   ],
   "source": [
    "# load the data\n",
    "df = pd.read_csv(\"../../data/processed-data/race_track_features.csv\")\n",
    "df.head()"
   ]
  },
  {
   "cell_type": "code",
   "execution_count": null,
   "metadata": {},
   "outputs": [],
   "source": []
  }
 ],
 "metadata": {
  "kernelspec": {
   "display_name": "base",
   "language": "python",
   "name": "python3"
  },
  "language_info": {
   "codemirror_mode": {
    "name": "ipython",
    "version": 3
   },
   "file_extension": ".py",
   "mimetype": "text/x-python",
   "name": "python",
   "nbconvert_exporter": "python",
   "pygments_lexer": "ipython3",
   "version": "3.10.6"
  }
 },
 "nbformat": 4,
 "nbformat_minor": 2
}
