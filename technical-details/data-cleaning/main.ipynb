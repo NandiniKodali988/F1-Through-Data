{
 "cells": [
  {
   "cell_type": "markdown",
   "metadata": {},
   "source": [
    "---\n",
    "title: \"Data Cleaning\"\n",
    "format:\n",
    "    html: \n",
    "        code-fold: false\n",
    "---"
   ]
  },
  {
   "cell_type": "markdown",
   "metadata": {},
   "source": [
    "<!-- After digesting the instructions, you can delete this cell, these are assignment instructions and do not need to be included in your final submission.  -->\n",
    "\n",
    "{{< include instructions.qmd >}} "
   ]
  },
  {
   "cell_type": "markdown",
   "metadata": {},
   "source": [
    "# Code \n",
    "\n",
    "Provide the source code used for this section of the project here.\n",
    "\n",
    "If you're using a package for code organization, you can import it at this point. However, make sure that the **actual workflow steps**—including data processing, analysis, and other key tasks—are conducted and clearly demonstrated on this page. The goal is to show the technical flow of your project, highlighting how the code is executed to achieve your results.\n",
    "\n",
    "If relevant, link to additional documentation or external references that explain any complex components. This section should give readers a clear view of how the project is implemented from a technical perspective.\n",
    "\n",
    "Remember, this page is a technical narrative, NOT just a notebook with a collection of code cells, include in-line Prose, to describe what is going on."
   ]
  },
  {
   "cell_type": "markdown",
   "metadata": {},
   "source": [
    "## Clean the News Data"
   ]
  },
  {
   "cell_type": "code",
   "execution_count": 1,
   "metadata": {},
   "outputs": [
    {
     "name": "stderr",
     "output_type": "stream",
     "text": [
      "[nltk_data] Downloading package stopwords to\n",
      "[nltk_data]     /Users/nandinikodali/nltk_data...\n",
      "[nltk_data]   Package stopwords is already up-to-date!\n"
     ]
    },
    {
     "data": {
      "text/plain": [
       "True"
      ]
     },
     "execution_count": 1,
     "metadata": {},
     "output_type": "execute_result"
    }
   ],
   "source": [
    "# import required libraries\n",
    "import os\n",
    "import json\n",
    "import re\n",
    "import pandas as pd\n",
    "import numpy as np\n",
    "import nltk\n",
    "nltk.download('stopwords')"
   ]
  },
  {
   "cell_type": "code",
   "execution_count": 4,
   "metadata": {},
   "outputs": [],
   "source": [
    "from sklearn.preprocessing import StandardScaler"
   ]
  },
  {
   "cell_type": "code",
   "execution_count": 37,
   "metadata": {},
   "outputs": [
    {
     "name": "stdout",
     "output_type": "stream",
     "text": [
      "Cleaned Text: thema kdssdnformel lesen jetzt jverstappen training\n"
     ]
    }
   ],
   "source": [
    "import re\n",
    "from nltk.corpus import stopwords\n",
    "\n",
    "# Load English stop words\n",
    "stop_words = set(stopwords.words('english'))\n",
    "\n",
    "def string_cleaner(input_string):\n",
    "    try:\n",
    "        # Remove unwanted punctuation\n",
    "        out = re.sub(r\"[.,;@#?!&$-]+\", \" \", input_string)  # Replace punctuation with space\n",
    "        \n",
    "        # Remove escape characters like \\u201e\n",
    "        out = re.sub(r'\\\\u[0-9a-fA-F]{4}', '', out)\n",
    "        \n",
    "        # Remove extra whitespace\n",
    "        out = re.sub(r'\\s+', ' ', out).strip()\n",
    "        \n",
    "        # Convert to lowercase\n",
    "        out = out.lower()\n",
    "        \n",
    "        # Remove stop words and words of length <= 3\n",
    "        words = out.split()\n",
    "        words = [word for word in words if len(word) > 3 and word not in stop_words]\n",
    "        \n",
    "        # Join words back into a single string\n",
    "        out = ' '.join(words)\n",
    "        \n",
    "    except Exception as e:\n",
    "        print(f\"Error cleaning string: {e}\")\n",
    "        out = ''\n",
    "    \n",
    "    return out\n",
    "\n",
    "# Example Usage\n",
    "text = r\"thema kdssdn\\u201eformel 1\\u201c lesen sie jetzt j\\u201everstappen im training\"\n",
    "cleaned_text = string_cleaner(text)\n",
    "print(f\"Cleaned Text: {cleaned_text}\")\n"
   ]
  },
  {
   "cell_type": "code",
   "execution_count": 44,
   "metadata": {},
   "outputs": [],
   "source": [
    "# function for cleaning the text\n",
    "stop_words = set(stopwords.words('english'))\n",
    "\n",
    "def string_cleaner(input_string):\n",
    "    try:\n",
    "        out = re.sub(r\"\"\"\n",
    "                    [,.;@#?!&$-]+\n",
    "                    \\ *          \n",
    "                    \"\"\",\n",
    "                    \" \",\n",
    "                    input_string, flags=re.VERBOSE)\n",
    "        out = re.sub(r'\\\\u[0-9a-fA-F]{4}', '', out)\n",
    "        out = re.sub('[’.]+', '', out)\n",
    "\n",
    "        out = re.sub(r'\\s+', ' ', out)\n",
    "        out = out.lower()\n",
    "        words = out.split()\n",
    "        words = [\n",
    "            word for word in words\n",
    "            if len(word) > 3 and word not in stop_words and not re.search(r'\\d', word)\n",
    "        ]\n",
    "        out = ' '.join(words)\n",
    "    except:\n",
    "        print(\"ERROR\")\n",
    "        out = ''\n",
    "    return out"
   ]
  },
  {
   "cell_type": "code",
   "execution_count": 45,
   "metadata": {},
   "outputs": [],
   "source": [
    "# Function to clean news data\n",
    "def clean_news_data(raw_data_dir, clean_data_dir):\n",
    "    \n",
    "    # Iterate through raw data files\n",
    "    for file_name in os.listdir(raw_data_dir):\n",
    "        if file_name.endswith(\"_raw_text.json\"):  # Process only raw data files\n",
    "            \n",
    "            # Load the raw data\n",
    "            raw_file_path = os.path.join(raw_data_dir, file_name)\n",
    "            with open(raw_file_path, 'r') as raw_file:\n",
    "                raw_data = json.load(raw_file)\n",
    "            \n",
    "            # Clean the data\n",
    "            clean_data = {}\n",
    "            for article in raw_data:\n",
    "                title = article.get('title', '')\n",
    "                description = article.get('description', '')\n",
    "                \n",
    "                if title and description:\n",
    "                    clean_title = string_cleaner(title)\n",
    "                    clean_description = string_cleaner(description)\n",
    "                    clean_data[clean_title] = clean_description\n",
    "            \n",
    "            # Save the cleaned data to a new file\n",
    "            clean_file_name = file_name.replace(\"_raw_text.json\", \"_clean_news.json\")\n",
    "            clean_file_path = os.path.join(clean_data_dir, clean_file_name)\n",
    "            with open(clean_file_path, 'w') as clean_file:\n",
    "                json.dump(clean_data, clean_file, indent=4)"
   ]
  },
  {
   "cell_type": "code",
   "execution_count": 46,
   "metadata": {},
   "outputs": [],
   "source": [
    "# Define directories\n",
    "\n",
    "# Directory with raw data files\n",
    "raw_data_dir = \"../../data/raw-data/News_Drivers\"  \n",
    "\n",
    "# Directory for cleaned data files\n",
    "clean_data_dir = \"../../data/processed-data/News_drivers\"  \n"
   ]
  },
  {
   "cell_type": "code",
   "execution_count": 47,
   "metadata": {},
   "outputs": [],
   "source": [
    "# Clean the news data\n",
    "clean_news_data(raw_data_dir, clean_data_dir)"
   ]
  },
  {
   "cell_type": "markdown",
   "metadata": {},
   "source": [
    "## Clean the Drivers Standings"
   ]
  },
  {
   "cell_type": "code",
   "execution_count": 52,
   "metadata": {},
   "outputs": [],
   "source": [
    "input_file = \"../../data/raw-data/Driver_standings/driver_standings_2000_2023.json\"\n",
    "output_file = \"../../data/processed-data/driver_standings_2000_2023.csv\"\n"
   ]
  },
  {
   "cell_type": "code",
   "execution_count": 53,
   "metadata": {},
   "outputs": [],
   "source": [
    "with open(input_file, 'r') as f:\n",
    "    data = json.load(f)\n",
    "\n",
    "# Prepare a list to store extracted records\n",
    "cleaned_data = []\n",
    "\n",
    "# Loop through each season in the JSON\n",
    "for season, season_data in data.items():\n",
    "    standings_lists = season_data.get('MRData', {}).get('StandingsTable', {}).get('StandingsLists', [])\n",
    "    \n",
    "    for standings in standings_lists:\n",
    "        driver_standings = standings.get('DriverStandings', [])\n",
    "        \n",
    "        for entry in driver_standings:\n",
    "            # Extract required fields\n",
    "            position = entry.get('position', '')\n",
    "            points = entry.get('points', '')\n",
    "            wins = entry.get('wins', '')\n",
    "            driver = entry.get('Driver', {})\n",
    "            constructors = entry.get('Constructors', [])\n",
    "            \n",
    "            # Extract driver and constructor details\n",
    "            given_name = driver.get('givenName', '')\n",
    "            family_name = driver.get('familyName', '')\n",
    "            constructor_id = constructors[0].get('constructorId', '') if constructors else ''\n",
    "            constructor_name = constructors[0].get('name', '') if constructors else ''\n",
    "            \n",
    "            # Append the record to the cleaned data list\n",
    "            cleaned_data.append({\n",
    "                \"Season\": season,\n",
    "                \"Position\": position,\n",
    "                \"FirstName\": given_name,\n",
    "                \"LastName\": family_name,\n",
    "                \"Constructor_ID\": constructor_id,\n",
    "                \"Constructor_Name\": constructor_name,\n",
    "                \"Points\": points,\n",
    "                \"Wins\": wins\n",
    "            })\n"
   ]
  },
  {
   "cell_type": "code",
   "execution_count": 55,
   "metadata": {},
   "outputs": [],
   "source": [
    "df = pd.DataFrame(cleaned_data)\n",
    "df['driverName'] = df['FirstName'] + \" \" + df['LastName']\n",
    "df = df.drop(['FirstName', 'LastName'], axis=1)\n",
    "df.to_csv(output_file, index=False)"
   ]
  },
  {
   "cell_type": "markdown",
   "metadata": {},
   "source": [
    "## Clean the Circuit Information"
   ]
  },
  {
   "cell_type": "code",
   "execution_count": 58,
   "metadata": {},
   "outputs": [],
   "source": [
    "input_file = \"../../data/raw-data/circuit_data/circuit_data.json\"\n",
    "output_file = \"../../data/processed-data/circuit_data_clean.csv\"\n"
   ]
  },
  {
   "cell_type": "code",
   "execution_count": 59,
   "metadata": {},
   "outputs": [],
   "source": [
    "# Ensure the output directory exists\n",
    "os.makedirs(os.path.dirname(output_file), exist_ok=True)\n",
    "\n",
    "# Read the JSON file\n",
    "with open(input_file, 'r') as f:\n",
    "    data = json.load(f)\n",
    "\n",
    "# Extract circuit data\n",
    "circuits = data.get('MRData', {}).get('CircuitTable', {}).get('Circuits', [])\n",
    "\n",
    "# Prepare a list to store extracted records\n",
    "cleaned_data = []\n",
    "\n",
    "for circuit in circuits:\n",
    "    circuit_id = circuit.get('circuitId', '')\n",
    "    circuit_name = circuit.get('circuitName', '')\n",
    "    country = circuit.get('Location', {}).get('country', '')\n",
    "    latitude = circuit.get('Location', {}).get('lat', '')\n",
    "    longitude = circuit.get('Location', {}).get('long', '')\n",
    "    \n",
    "    # Append to the list\n",
    "    cleaned_data.append({\n",
    "        \"Circuit_ID\": circuit_id,\n",
    "        \"Circuit_Name\": circuit_name,\n",
    "        \"Country\": country,\n",
    "        \"Latitude\": latitude,\n",
    "        \"Longitude\": longitude\n",
    "    })\n",
    "\n",
    "# Convert the list to a Pandas DataFrame\n",
    "df = pd.DataFrame(cleaned_data)\n",
    "\n",
    "# Save the DataFrame to a CSV file\n",
    "df.to_csv(output_file, index=False)"
   ]
  },
  {
   "cell_type": "markdown",
   "metadata": {},
   "source": [
    "## Combine the Race data"
   ]
  },
  {
   "cell_type": "code",
   "execution_count": 7,
   "metadata": {},
   "outputs": [],
   "source": [
    "## Cleaning all the race_data and appending them in to a single csv file \n",
    "\n",
    "# input output directory\n",
    "input_dir = \"../../data/raw-data/\"\n",
    "# output directory\n",
    "output_file = \"../../data/processed-data/all_race_results_cleaned.csv\"\n",
    "\n",
    "# creating an output file\n",
    "os.makedirs(os.path.dirname(output_file), exist_ok=True)\n",
    "\n",
    "# initialize a list to hold all results\n",
    "all_combined_results = []\n",
    "\n",
    "# process each JSON file in the input directory\n",
    "# they are the only .json files in the directory\n",
    "for file_name in os.listdir(input_dir):\n",
    "    # process only JSON files\n",
    "    if file_name.endswith(\".json\"): \n",
    "        file_path = os.path.join(input_dir, file_name)\n",
    "        #print(f\"Processing file: {file_path}\")\n",
    "        \n",
    "        # read the JSON file\n",
    "        with open(file_path, 'r') as f:\n",
    "            data = json.load(f)\n",
    "        \n",
    "        # extract races from the JSON\n",
    "        races = data.get('MRData', {}).get('RaceTable', {}).get('Races', [])\n",
    "        \n",
    "        # prepare a list to hold flattened race results for this file\n",
    "        file_results = []\n",
    "\n",
    "        # loop through each race and flatten its data\n",
    "        for race in races:\n",
    "            # extract required information \n",
    "            race_info = { \n",
    "                \"season\": race.get(\"season\", \"\"),\n",
    "                \"round\": race.get(\"round\", \"\"),\n",
    "                \"raceName\": race.get(\"raceName\", \"\"),\n",
    "                \"url\": race.get(\"url\",\"\"),\n",
    "                \"circuitName\": race.get(\"Circuit\", {}).get(\"circuitName\", \"\"),\n",
    "                \"locality\": race.get(\"Circuit\", {}).get(\"Location\", {}).get(\"locality\", \"\"),\n",
    "                \"country\": race.get(\"Circuit\", {}).get(\"Location\", {}).get(\"country\", \"\"),\n",
    "                \"lat\": race.get(\"Circuit\", {}).get(\"Location\", {}).get(\"lat\", \"\"),\n",
    "                \"long\": race.get(\"Circuit\", {}).get(\"Location\", {}).get(\"long\", \"\"),\n",
    "                \"date\": race.get(\"date\", \"\"),\n",
    "            }\n",
    "            \n",
    "            # extract results and combine with useful details\n",
    "            results = race.get(\"Results\", [])\n",
    "            for result in results:\n",
    "                # combine race-level and result-level data\n",
    "                combined_data = {**race_info, **result}\n",
    "                # add flattened driver and constructor details\n",
    "                combined_data.update({\n",
    "                    \"driverId\": result.get(\"Driver\", {}).get(\"driverId\", \"\"),\n",
    "                    \"driverGivenName\": result.get(\"Driver\", {}).get(\"givenName\", \"\"),\n",
    "                    \"driverFamilyName\": result.get(\"Driver\", {}).get(\"familyName\", \"\"),\n",
    "                    \"constructorId\": result.get(\"Constructor\", {}).get(\"constructorId\", \"\"),\n",
    "                    \"constructorName\": result.get(\"Constructor\", {}).get(\"name\", \"\"),\n",
    "                    \"status\": result.get(\"status\", \"\"),\n",
    "                    \"timeMillis\": result.get(\"Time\", {}).get(\"millis\", \"\"),\n",
    "                    \"time\": result.get(\"Time\", {}).get(\"time\", \"\")\n",
    "                })\n",
    "                file_results.append(combined_data)\n",
    "\n",
    "        # append the results for this file to the combined list\n",
    "        all_combined_results.extend(file_results)\n",
    "\n",
    "# aonvert the combined results to a Pandas DataFrame\n",
    "df = pd.DataFrame(all_combined_results)\n",
    "\n",
    "# aave the combined DataFrame to a CSV file\n",
    "df.to_csv(output_file, index=False)\n",
    "\n"
   ]
  },
  {
   "cell_type": "markdown",
   "metadata": {},
   "source": [
    "## Cleaning Weather Data"
   ]
  },
  {
   "cell_type": "code",
   "execution_count": 66,
   "metadata": {},
   "outputs": [],
   "source": [
    "weather_df = pd.read_csv(\"../../data/raw-data/weather/race_data_with_weather.csv\")"
   ]
  },
  {
   "cell_type": "code",
   "execution_count": 67,
   "metadata": {},
   "outputs": [
    {
     "data": {
      "text/plain": [
       "season      0\n",
       "raceName    0\n",
       "url         0\n",
       "weather     0\n",
       "dtype: int64"
      ]
     },
     "execution_count": 67,
     "metadata": {},
     "output_type": "execute_result"
    }
   ],
   "source": [
    "weather_df.isnull().sum()"
   ]
  },
  {
   "cell_type": "code",
   "execution_count": 68,
   "metadata": {},
   "outputs": [
    {
     "data": {
      "text/plain": [
       "0                                                  Sunny\n",
       "1                      Overcast with light rain at start\n",
       "2                                     Mainly cloudy, dry\n",
       "3                                           Cloudy, rain\n",
       "4                                     Mainly cloudy, dry\n",
       "                             ...                        \n",
       "117    Sunny with temperatures reaching up to 27 °C (...\n",
       "118    Dry start, with heavy rain and thunderstorm/mo...\n",
       "119                                                 Rain\n",
       "120                                                Sunny\n",
       "121                                          Warm, Sunny\n",
       "Name: weather, Length: 122, dtype: object"
      ]
     },
     "execution_count": 68,
     "metadata": {},
     "output_type": "execute_result"
    }
   ],
   "source": [
    "weather_df['weather']"
   ]
  },
  {
   "cell_type": "markdown",
   "metadata": {},
   "source": [
    "#### we will try to categorise the weather description into one of the following categories:\n",
    "1. Sunny\n",
    "2. Cloudy\n",
    "3. Rainy\n",
    "4. Windy"
   ]
  },
  {
   "cell_type": "code",
   "execution_count": 69,
   "metadata": {},
   "outputs": [],
   "source": [
    "def classify_weather(weather_description):\n",
    "\n",
    "    weather_description = weather_description.lower()\n",
    "    \n",
    "    if \"sunny\" in weather_description or \"fine\" in weather_description or \"clear\" in weather_description or \"dry\" in weather_description:\n",
    "        return \"Sunny\"\n",
    "    elif \"cloudy\" in weather_description or \"overcast\" in weather_description or \"cloud\" in weather_description:\n",
    "        return \"Cloudy\"\n",
    "    elif \"rain\" in weather_description or \"thunderstorms\" in weather_description or \"drizzle\" in weather_description:\n",
    "        return \"Rainy\"\n",
    "    elif \"windy\" in weather_description:\n",
    "        return \"Windy\"\n",
    "    # If no match, classify as \"Not Available\"\n",
    "    else:\n",
    "        return \"Not Available\" "
   ]
  },
  {
   "cell_type": "code",
   "execution_count": 70,
   "metadata": {},
   "outputs": [],
   "source": [
    "# call classify_weather()\n",
    "weather_df['weather_class'] = weather_df['weather'].apply(classify_weather)\n",
    "\n",
    "# Save the updated DataFrame to a CSV file\n",
    "output_csv = \"../../data/processed-data/classified_weather_data.csv\"\n",
    "weather_df.to_csv(output_csv, index=False)"
   ]
  },
  {
   "cell_type": "code",
   "execution_count": 71,
   "metadata": {},
   "outputs": [
    {
     "data": {
      "text/plain": [
       "weather_class\n",
       "Sunny            95\n",
       "Cloudy           24\n",
       "Rainy             2\n",
       "Not Available     1\n",
       "Name: count, dtype: int64"
      ]
     },
     "execution_count": 71,
     "metadata": {},
     "output_type": "execute_result"
    }
   ],
   "source": [
    "weather_df['weather_class'].value_counts()"
   ]
  },
  {
   "cell_type": "markdown",
   "metadata": {},
   "source": [
    "The weather data for 2006 European Grand Prix is not available on wikipedia.\n",
    "- Using longitude, latitude and the date: The weather was `Sunny`"
   ]
  },
  {
   "cell_type": "code",
   "execution_count": 72,
   "metadata": {},
   "outputs": [],
   "source": [
    "weather_df['weather_class'] = weather_df['weather_class'].replace('Not Available', 'Sunny')"
   ]
  },
  {
   "cell_type": "code",
   "execution_count": 73,
   "metadata": {},
   "outputs": [],
   "source": [
    "output_csv = \"../../data/processed-data/classified_weather_data.csv\"\n",
    "weather_df.to_csv(output_csv, index=False)"
   ]
  },
  {
   "cell_type": "code",
   "execution_count": 75,
   "metadata": {},
   "outputs": [],
   "source": [
    "# merge race results and weather information\n",
    "race_df = pd.read_csv(\"../../data/processed-data/all_race_results_cleaned.csv\")\n",
    "weather_df = pd.read_csv(\"../../data/processed-data/classified_weather_data.csv\")\n",
    "\n",
    "merged_df = race_df.merge(weather_df[['url','weather_class']], on='url', how='left')\n",
    "\n",
    "merged_df.to_csv(\"../../data/processed-data/race_weather_merged.csv\", index=False)"
   ]
  },
  {
   "cell_type": "markdown",
   "metadata": {},
   "source": [
    "## Clean the merged data"
   ]
  },
  {
   "cell_type": "code",
   "execution_count": 33,
   "metadata": {},
   "outputs": [
    {
     "data": {
      "text/html": [
       "<div>\n",
       "<style scoped>\n",
       "    .dataframe tbody tr th:only-of-type {\n",
       "        vertical-align: middle;\n",
       "    }\n",
       "\n",
       "    .dataframe tbody tr th {\n",
       "        vertical-align: top;\n",
       "    }\n",
       "\n",
       "    .dataframe thead th {\n",
       "        text-align: right;\n",
       "    }\n",
       "</style>\n",
       "<table border=\"1\" class=\"dataframe\">\n",
       "  <thead>\n",
       "    <tr style=\"text-align: right;\">\n",
       "      <th></th>\n",
       "      <th>season</th>\n",
       "      <th>round</th>\n",
       "      <th>raceName</th>\n",
       "      <th>url</th>\n",
       "      <th>circuitName</th>\n",
       "      <th>locality</th>\n",
       "      <th>country</th>\n",
       "      <th>lat</th>\n",
       "      <th>long</th>\n",
       "      <th>date</th>\n",
       "      <th>...</th>\n",
       "      <th>Time</th>\n",
       "      <th>FastestLap</th>\n",
       "      <th>driverId</th>\n",
       "      <th>driverGivenName</th>\n",
       "      <th>driverFamilyName</th>\n",
       "      <th>constructorId</th>\n",
       "      <th>constructorName</th>\n",
       "      <th>timeMillis</th>\n",
       "      <th>time</th>\n",
       "      <th>weather_class</th>\n",
       "    </tr>\n",
       "  </thead>\n",
       "  <tbody>\n",
       "    <tr>\n",
       "      <th>0</th>\n",
       "      <td>2010</td>\n",
       "      <td>1</td>\n",
       "      <td>Bahrain Grand Prix</td>\n",
       "      <td>http://en.wikipedia.org/wiki/2010_Bahrain_Gran...</td>\n",
       "      <td>Bahrain International Circuit</td>\n",
       "      <td>Sakhir</td>\n",
       "      <td>Bahrain</td>\n",
       "      <td>26.0325</td>\n",
       "      <td>50.5106</td>\n",
       "      <td>2010-03-14</td>\n",
       "      <td>...</td>\n",
       "      <td>{'millis': '5960396', 'time': '1:39:20.396'}</td>\n",
       "      <td>{'rank': '1', 'lap': '45', 'Time': {'time': '1...</td>\n",
       "      <td>alonso</td>\n",
       "      <td>Fernando</td>\n",
       "      <td>Alonso</td>\n",
       "      <td>ferrari</td>\n",
       "      <td>Ferrari</td>\n",
       "      <td>5960396.0</td>\n",
       "      <td>1:39:20.396</td>\n",
       "      <td>Sunny</td>\n",
       "    </tr>\n",
       "    <tr>\n",
       "      <th>1</th>\n",
       "      <td>2010</td>\n",
       "      <td>1</td>\n",
       "      <td>Bahrain Grand Prix</td>\n",
       "      <td>http://en.wikipedia.org/wiki/2010_Bahrain_Gran...</td>\n",
       "      <td>Bahrain International Circuit</td>\n",
       "      <td>Sakhir</td>\n",
       "      <td>Bahrain</td>\n",
       "      <td>26.0325</td>\n",
       "      <td>50.5106</td>\n",
       "      <td>2010-03-14</td>\n",
       "      <td>...</td>\n",
       "      <td>{'millis': '5976495', 'time': '+16.099'}</td>\n",
       "      <td>{'rank': '5', 'lap': '38', 'Time': {'time': '1...</td>\n",
       "      <td>massa</td>\n",
       "      <td>Felipe</td>\n",
       "      <td>Massa</td>\n",
       "      <td>ferrari</td>\n",
       "      <td>Ferrari</td>\n",
       "      <td>5976495.0</td>\n",
       "      <td>+16.099</td>\n",
       "      <td>Sunny</td>\n",
       "    </tr>\n",
       "    <tr>\n",
       "      <th>2</th>\n",
       "      <td>2010</td>\n",
       "      <td>1</td>\n",
       "      <td>Bahrain Grand Prix</td>\n",
       "      <td>http://en.wikipedia.org/wiki/2010_Bahrain_Gran...</td>\n",
       "      <td>Bahrain International Circuit</td>\n",
       "      <td>Sakhir</td>\n",
       "      <td>Bahrain</td>\n",
       "      <td>26.0325</td>\n",
       "      <td>50.5106</td>\n",
       "      <td>2010-03-14</td>\n",
       "      <td>...</td>\n",
       "      <td>{'millis': '5983578', 'time': '+23.182'}</td>\n",
       "      <td>{'rank': '4', 'lap': '42', 'Time': {'time': '1...</td>\n",
       "      <td>hamilton</td>\n",
       "      <td>Lewis</td>\n",
       "      <td>Hamilton</td>\n",
       "      <td>mclaren</td>\n",
       "      <td>McLaren</td>\n",
       "      <td>5983578.0</td>\n",
       "      <td>+23.182</td>\n",
       "      <td>Sunny</td>\n",
       "    </tr>\n",
       "    <tr>\n",
       "      <th>3</th>\n",
       "      <td>2010</td>\n",
       "      <td>1</td>\n",
       "      <td>Bahrain Grand Prix</td>\n",
       "      <td>http://en.wikipedia.org/wiki/2010_Bahrain_Gran...</td>\n",
       "      <td>Bahrain International Circuit</td>\n",
       "      <td>Sakhir</td>\n",
       "      <td>Bahrain</td>\n",
       "      <td>26.0325</td>\n",
       "      <td>50.5106</td>\n",
       "      <td>2010-03-14</td>\n",
       "      <td>...</td>\n",
       "      <td>{'millis': '5999195', 'time': '+38.799'}</td>\n",
       "      <td>{'rank': '12', 'lap': '32', 'Time': {'time': '...</td>\n",
       "      <td>vettel</td>\n",
       "      <td>Sebastian</td>\n",
       "      <td>Vettel</td>\n",
       "      <td>red_bull</td>\n",
       "      <td>Red Bull</td>\n",
       "      <td>5999195.0</td>\n",
       "      <td>+38.799</td>\n",
       "      <td>Sunny</td>\n",
       "    </tr>\n",
       "    <tr>\n",
       "      <th>4</th>\n",
       "      <td>2010</td>\n",
       "      <td>1</td>\n",
       "      <td>Bahrain Grand Prix</td>\n",
       "      <td>http://en.wikipedia.org/wiki/2010_Bahrain_Gran...</td>\n",
       "      <td>Bahrain International Circuit</td>\n",
       "      <td>Sakhir</td>\n",
       "      <td>Bahrain</td>\n",
       "      <td>26.0325</td>\n",
       "      <td>50.5106</td>\n",
       "      <td>2010-03-14</td>\n",
       "      <td>...</td>\n",
       "      <td>{'millis': '6000609', 'time': '+40.213'}</td>\n",
       "      <td>{'rank': '13', 'lap': '45', 'Time': {'time': '...</td>\n",
       "      <td>rosberg</td>\n",
       "      <td>Nico</td>\n",
       "      <td>Rosberg</td>\n",
       "      <td>mercedes</td>\n",
       "      <td>Mercedes</td>\n",
       "      <td>6000609.0</td>\n",
       "      <td>+40.213</td>\n",
       "      <td>Sunny</td>\n",
       "    </tr>\n",
       "  </tbody>\n",
       "</table>\n",
       "<p>5 rows × 29 columns</p>\n",
       "</div>"
      ],
      "text/plain": [
       "   season  round            raceName  \\\n",
       "0    2010      1  Bahrain Grand Prix   \n",
       "1    2010      1  Bahrain Grand Prix   \n",
       "2    2010      1  Bahrain Grand Prix   \n",
       "3    2010      1  Bahrain Grand Prix   \n",
       "4    2010      1  Bahrain Grand Prix   \n",
       "\n",
       "                                                 url  \\\n",
       "0  http://en.wikipedia.org/wiki/2010_Bahrain_Gran...   \n",
       "1  http://en.wikipedia.org/wiki/2010_Bahrain_Gran...   \n",
       "2  http://en.wikipedia.org/wiki/2010_Bahrain_Gran...   \n",
       "3  http://en.wikipedia.org/wiki/2010_Bahrain_Gran...   \n",
       "4  http://en.wikipedia.org/wiki/2010_Bahrain_Gran...   \n",
       "\n",
       "                     circuitName locality  country      lat     long  \\\n",
       "0  Bahrain International Circuit   Sakhir  Bahrain  26.0325  50.5106   \n",
       "1  Bahrain International Circuit   Sakhir  Bahrain  26.0325  50.5106   \n",
       "2  Bahrain International Circuit   Sakhir  Bahrain  26.0325  50.5106   \n",
       "3  Bahrain International Circuit   Sakhir  Bahrain  26.0325  50.5106   \n",
       "4  Bahrain International Circuit   Sakhir  Bahrain  26.0325  50.5106   \n",
       "\n",
       "         date  ...                                          Time  \\\n",
       "0  2010-03-14  ...  {'millis': '5960396', 'time': '1:39:20.396'}   \n",
       "1  2010-03-14  ...      {'millis': '5976495', 'time': '+16.099'}   \n",
       "2  2010-03-14  ...      {'millis': '5983578', 'time': '+23.182'}   \n",
       "3  2010-03-14  ...      {'millis': '5999195', 'time': '+38.799'}   \n",
       "4  2010-03-14  ...      {'millis': '6000609', 'time': '+40.213'}   \n",
       "\n",
       "                                          FastestLap  driverId  \\\n",
       "0  {'rank': '1', 'lap': '45', 'Time': {'time': '1...    alonso   \n",
       "1  {'rank': '5', 'lap': '38', 'Time': {'time': '1...     massa   \n",
       "2  {'rank': '4', 'lap': '42', 'Time': {'time': '1...  hamilton   \n",
       "3  {'rank': '12', 'lap': '32', 'Time': {'time': '...    vettel   \n",
       "4  {'rank': '13', 'lap': '45', 'Time': {'time': '...   rosberg   \n",
       "\n",
       "   driverGivenName driverFamilyName constructorId  constructorName  \\\n",
       "0         Fernando           Alonso       ferrari          Ferrari   \n",
       "1           Felipe            Massa       ferrari          Ferrari   \n",
       "2            Lewis         Hamilton       mclaren          McLaren   \n",
       "3        Sebastian           Vettel      red_bull         Red Bull   \n",
       "4             Nico          Rosberg      mercedes         Mercedes   \n",
       "\n",
       "   timeMillis         time weather_class  \n",
       "0   5960396.0  1:39:20.396         Sunny  \n",
       "1   5976495.0      +16.099         Sunny  \n",
       "2   5983578.0      +23.182         Sunny  \n",
       "3   5999195.0      +38.799         Sunny  \n",
       "4   6000609.0      +40.213         Sunny  \n",
       "\n",
       "[5 rows x 29 columns]"
      ]
     },
     "execution_count": 33,
     "metadata": {},
     "output_type": "execute_result"
    }
   ],
   "source": [
    "main_df = pd.read_csv(\"../../data/processed-data/race_weather_merged.csv\")\n",
    "main_df.head()"
   ]
  },
  {
   "cell_type": "code",
   "execution_count": 34,
   "metadata": {},
   "outputs": [
    {
     "data": {
      "text/plain": [
       "Index(['season', 'round', 'raceName', 'url', 'circuitName', 'locality',\n",
       "       'country', 'lat', 'long', 'date', 'number', 'position', 'positionText',\n",
       "       'points', 'Driver', 'Constructor', 'grid', 'laps', 'status', 'Time',\n",
       "       'FastestLap', 'driverId', 'driverGivenName', 'driverFamilyName',\n",
       "       'constructorId', 'constructorName', 'timeMillis', 'time',\n",
       "       'weather_class'],\n",
       "      dtype='object')"
      ]
     },
     "execution_count": 34,
     "metadata": {},
     "output_type": "execute_result"
    }
   ],
   "source": [
    "main_df.columns"
   ]
  },
  {
   "cell_type": "code",
   "execution_count": 35,
   "metadata": {},
   "outputs": [],
   "source": [
    "# drop un-needed columns\n",
    "main_df = main_df.drop(['lat', 'long', 'number', 'positionText', 'Driver', 'Constructor', 'Time', 'FastestLap'], axis=1)"
   ]
  },
  {
   "cell_type": "code",
   "execution_count": 36,
   "metadata": {},
   "outputs": [
    {
     "data": {
      "text/plain": [
       "Index(['season', 'round', 'raceName', 'url', 'circuitName', 'locality',\n",
       "       'country', 'date', 'position', 'points', 'grid', 'laps', 'status',\n",
       "       'driverId', 'driverGivenName', 'driverFamilyName', 'constructorId',\n",
       "       'constructorName', 'timeMillis', 'time', 'weather_class'],\n",
       "      dtype='object')"
      ]
     },
     "execution_count": 36,
     "metadata": {},
     "output_type": "execute_result"
    }
   ],
   "source": [
    "main_df.columns"
   ]
  },
  {
   "cell_type": "code",
   "execution_count": 37,
   "metadata": {},
   "outputs": [
    {
     "data": {
      "text/plain": [
       "season                 0\n",
       "round                  0\n",
       "raceName               0\n",
       "url                    0\n",
       "circuitName            0\n",
       "locality               0\n",
       "country                0\n",
       "date                   0\n",
       "position               0\n",
       "points                 0\n",
       "grid                   0\n",
       "laps                   0\n",
       "status                 0\n",
       "driverId               0\n",
       "driverGivenName        0\n",
       "driverFamilyName       0\n",
       "constructorId          0\n",
       "constructorName        0\n",
       "timeMillis          1291\n",
       "time                1291\n",
       "weather_class          0\n",
       "dtype: int64"
      ]
     },
     "execution_count": 37,
     "metadata": {},
     "output_type": "execute_result"
    }
   ],
   "source": [
    "main_df.isnull().sum()"
   ]
  },
  {
   "cell_type": "markdown",
   "metadata": {},
   "source": [
    "The missing values in '`timeMillis'` and '`time'` columns are of those drivers who did not finish the race. Therefore, we will drop these columns and try to analyse the performance based on other metrics."
   ]
  },
  {
   "cell_type": "code",
   "execution_count": 38,
   "metadata": {},
   "outputs": [],
   "source": [
    "# drop un-needed columns\n",
    "main_df = main_df.drop(['timeMillis', 'time'], axis=1)"
   ]
  },
  {
   "cell_type": "code",
   "execution_count": 39,
   "metadata": {},
   "outputs": [
    {
     "data": {
      "text/plain": [
       "constructorName\n",
       "Ferrari           235\n",
       "McLaren           234\n",
       "Williams          229\n",
       "Red Bull          184\n",
       "Renault           142\n",
       "Sauber            139\n",
       "Mercedes          134\n",
       "Toro Rosso        127\n",
       "Force India       100\n",
       "Haas F1 Team       79\n",
       "Toyota             76\n",
       "Jordan             57\n",
       "BAR                56\n",
       "Minardi            54\n",
       "Alfa Romeo         50\n",
       "Jaguar             45\n",
       "BMW Sauber         40\n",
       "AlphaTauri         40\n",
       "Lotus F1           38\n",
       "Alpine F1 Team     30\n",
       "Aston Martin       30\n",
       "Honda              28\n",
       "Arrows             26\n",
       "HRT                24\n",
       "Marussia           24\n",
       "Super Aguri        24\n",
       "Caterham           24\n",
       "Racing Point       20\n",
       "Prost              18\n",
       "Benetton           18\n",
       "Virgin             16\n",
       "Manor Marussia     16\n",
       "Lotus              16\n",
       "Brawn              10\n",
       "MF1                 9\n",
       "Spyker              8\n",
       "Name: count, dtype: int64"
      ]
     },
     "execution_count": 39,
     "metadata": {},
     "output_type": "execute_result"
    }
   ],
   "source": [
    "main_df['constructorName'].value_counts()"
   ]
  },
  {
   "cell_type": "code",
   "execution_count": 40,
   "metadata": {},
   "outputs": [],
   "source": [
    "main_df = main_df.drop(['constructorId'], axis=1)"
   ]
  },
  {
   "cell_type": "markdown",
   "metadata": {},
   "source": [
    "Some of the team names were changed in the process of rebranding or due to a change in ownership. \n",
    "For accurate analysis, we will replace the older versions of the constructors' names with the current ones.\n",
    "\n"
   ]
  },
  {
   "cell_type": "code",
   "execution_count": 41,
   "metadata": {},
   "outputs": [],
   "source": [
    "constructor_mapping= {\n",
    "    \"Jaguar\" : \"Red Bull\",\n",
    "    \"BMW Sauber\" : \"Sauber\",\n",
    "    \"Alfa Romeo\" : \"Sauber\",\n",
    "    \"BAR\" : \"Mercedes\",\n",
    "    \"Honda\" : \"Mercedes\",\n",
    "    \"Brawn\" : \"Mercedes\",\n",
    "    \"Minardi\" : \"AlphaTauri\",\n",
    "    \"Toro Rosso\" : \"AlphaTauri\",\n",
    "    \"Force India\" : \"Aston Martin\",\n",
    "    \"Jordan\" : \"Aston Martin\",\n",
    "    \"Racing Point\" : \"Aston Martin\",\n",
    "    \"MF1\" : \"Aston Martin\",\n",
    "    \"Spyker\" : \"Aston Martin\",\n",
    "    \"Lotus F1\" : \"Alpine F1 Team\",\n",
    "    \"Renault\" : \"Alpine F1 Team\",\n",
    "    \"Benetton\" : \"Alpine F1 Team\",\n",
    "    \"Manor Marussia\" : \"Marussia\",\n",
    "    \"Virgin\" : \"Marussia\",\n",
    "    \"Lotus\" : \"Caterham\",\n",
    "\n",
    "}"
   ]
  },
  {
   "cell_type": "code",
   "execution_count": 42,
   "metadata": {},
   "outputs": [],
   "source": [
    "main_df['constructorName'] = main_df['constructorName'].replace(constructor_mapping)"
   ]
  },
  {
   "cell_type": "code",
   "execution_count": 43,
   "metadata": {},
   "outputs": [
    {
     "data": {
      "text/plain": [
       "constructorName\n",
       "Ferrari           235\n",
       "McLaren           234\n",
       "Red Bull          229\n",
       "Williams          229\n",
       "Sauber            229\n",
       "Mercedes          228\n",
       "Alpine F1 Team    228\n",
       "Aston Martin      224\n",
       "AlphaTauri        221\n",
       "Haas F1 Team       79\n",
       "Toyota             76\n",
       "Marussia           56\n",
       "Caterham           40\n",
       "Arrows             26\n",
       "Super Aguri        24\n",
       "HRT                24\n",
       "Prost              18\n",
       "Name: count, dtype: int64"
      ]
     },
     "execution_count": 43,
     "metadata": {},
     "output_type": "execute_result"
    }
   ],
   "source": [
    "main_df['constructorName'].value_counts()"
   ]
  },
  {
   "cell_type": "code",
   "execution_count": 44,
   "metadata": {},
   "outputs": [],
   "source": [
    "main_df['driverName'] = main_df['driverGivenName'] + \" \" + main_df['driverFamilyName']"
   ]
  },
  {
   "cell_type": "code",
   "execution_count": 45,
   "metadata": {},
   "outputs": [],
   "source": [
    "main_df = main_df.drop(['driverGivenName','driverFamilyName'], axis = 1)"
   ]
  },
  {
   "cell_type": "code",
   "execution_count": 46,
   "metadata": {},
   "outputs": [
    {
     "data": {
      "text/html": [
       "<div>\n",
       "<style scoped>\n",
       "    .dataframe tbody tr th:only-of-type {\n",
       "        vertical-align: middle;\n",
       "    }\n",
       "\n",
       "    .dataframe tbody tr th {\n",
       "        vertical-align: top;\n",
       "    }\n",
       "\n",
       "    .dataframe thead th {\n",
       "        text-align: right;\n",
       "    }\n",
       "</style>\n",
       "<table border=\"1\" class=\"dataframe\">\n",
       "  <thead>\n",
       "    <tr style=\"text-align: right;\">\n",
       "      <th></th>\n",
       "      <th>season</th>\n",
       "      <th>round</th>\n",
       "      <th>raceName</th>\n",
       "      <th>url</th>\n",
       "      <th>circuitName</th>\n",
       "      <th>locality</th>\n",
       "      <th>country</th>\n",
       "      <th>date</th>\n",
       "      <th>position</th>\n",
       "      <th>points</th>\n",
       "      <th>grid</th>\n",
       "      <th>laps</th>\n",
       "      <th>status</th>\n",
       "      <th>driverId</th>\n",
       "      <th>constructorName</th>\n",
       "      <th>weather_class</th>\n",
       "      <th>driverName</th>\n",
       "    </tr>\n",
       "  </thead>\n",
       "  <tbody>\n",
       "    <tr>\n",
       "      <th>0</th>\n",
       "      <td>2010</td>\n",
       "      <td>1</td>\n",
       "      <td>Bahrain Grand Prix</td>\n",
       "      <td>http://en.wikipedia.org/wiki/2010_Bahrain_Gran...</td>\n",
       "      <td>Bahrain International Circuit</td>\n",
       "      <td>Sakhir</td>\n",
       "      <td>Bahrain</td>\n",
       "      <td>2010-03-14</td>\n",
       "      <td>1</td>\n",
       "      <td>25.0</td>\n",
       "      <td>3</td>\n",
       "      <td>49</td>\n",
       "      <td>Finished</td>\n",
       "      <td>alonso</td>\n",
       "      <td>Ferrari</td>\n",
       "      <td>Sunny</td>\n",
       "      <td>Fernando Alonso</td>\n",
       "    </tr>\n",
       "    <tr>\n",
       "      <th>1</th>\n",
       "      <td>2010</td>\n",
       "      <td>1</td>\n",
       "      <td>Bahrain Grand Prix</td>\n",
       "      <td>http://en.wikipedia.org/wiki/2010_Bahrain_Gran...</td>\n",
       "      <td>Bahrain International Circuit</td>\n",
       "      <td>Sakhir</td>\n",
       "      <td>Bahrain</td>\n",
       "      <td>2010-03-14</td>\n",
       "      <td>2</td>\n",
       "      <td>18.0</td>\n",
       "      <td>2</td>\n",
       "      <td>49</td>\n",
       "      <td>Finished</td>\n",
       "      <td>massa</td>\n",
       "      <td>Ferrari</td>\n",
       "      <td>Sunny</td>\n",
       "      <td>Felipe Massa</td>\n",
       "    </tr>\n",
       "  </tbody>\n",
       "</table>\n",
       "</div>"
      ],
      "text/plain": [
       "   season  round            raceName  \\\n",
       "0    2010      1  Bahrain Grand Prix   \n",
       "1    2010      1  Bahrain Grand Prix   \n",
       "\n",
       "                                                 url  \\\n",
       "0  http://en.wikipedia.org/wiki/2010_Bahrain_Gran...   \n",
       "1  http://en.wikipedia.org/wiki/2010_Bahrain_Gran...   \n",
       "\n",
       "                     circuitName locality  country        date  position  \\\n",
       "0  Bahrain International Circuit   Sakhir  Bahrain  2010-03-14         1   \n",
       "1  Bahrain International Circuit   Sakhir  Bahrain  2010-03-14         2   \n",
       "\n",
       "   points  grid  laps    status driverId constructorName weather_class  \\\n",
       "0    25.0     3    49  Finished   alonso         Ferrari         Sunny   \n",
       "1    18.0     2    49  Finished    massa         Ferrari         Sunny   \n",
       "\n",
       "        driverName  \n",
       "0  Fernando Alonso  \n",
       "1     Felipe Massa  "
      ]
     },
     "execution_count": 46,
     "metadata": {},
     "output_type": "execute_result"
    }
   ],
   "source": [
    "main_df.head(2)"
   ]
  },
  {
   "cell_type": "code",
   "execution_count": 47,
   "metadata": {},
   "outputs": [
    {
     "data": {
      "text/plain": [
       "array(['Finished', '+1 Lap', '+2 Laps', 'Electrical', 'Hydraulics',\n",
       "       'Overheating', 'Gearbox', 'Suspension', 'Accident', '+5 Laps',\n",
       "       'Wheel', 'Engine', 'Spun off', 'Collision', '+3 Laps', '+4 Laps',\n",
       "       '+10 Laps', 'Throttle', 'Clutch', 'Technical', 'Mechanical',\n",
       "       'Driveshaft', 'Transmission', 'Steering', 'Puncture', 'Brakes',\n",
       "       'Retired', 'Tyre', 'Fuel pressure', '+9 Laps', 'Water leak',\n",
       "       'Disqualified', 'Did not qualify', '+42 Laps', 'Engine misfire',\n",
       "       'Power Unit', 'Oil pressure', 'Safety concerns', 'Fuel system',\n",
       "       '+6 Laps', 'Electronics', 'Collision damage', 'Wheel nut',\n",
       "       'Battery', 'Oil leak', '+7 Laps', 'Stalled', 'Exhaust',\n",
       "       'Vibrations', 'Broken wing', 'Fuel', 'Wheel rim', 'Power loss',\n",
       "       '107% Rule', '+8 Laps', 'ERS', 'Withdrew', 'Cooling system',\n",
       "       'Water pump', 'Fuel leak', 'Front wing', 'Turbo', 'Damage',\n",
       "       'Out of fuel', 'Radiator', 'Oil line', 'Fuel rig',\n",
       "       'Launch control', 'Not classified', 'Pneumatics', 'Differential'],\n",
       "      dtype=object)"
      ]
     },
     "execution_count": 47,
     "metadata": {},
     "output_type": "execute_result"
    }
   ],
   "source": [
    "main_df['status'].unique()"
   ]
  },
  {
   "cell_type": "code",
   "execution_count": 48,
   "metadata": {},
   "outputs": [],
   "source": [
    "# classifying different categories under status\n",
    "def classify_status(status):\n",
    "    if status == 'Finished':\n",
    "        return 'Finished'\n",
    "    elif 'Lap' in status:  # Handles all with 'Lap'\n",
    "        return 'Lapped'\n",
    "    elif status in ['Accident', 'Collision', 'Spun off', 'Withdrew']:\n",
    "        return 'Accident'\n",
    "    else:\n",
    "        return 'Mechanical'\n",
    "\n",
    "main_df['status'] = main_df['status'].apply(classify_status)\n"
   ]
  },
  {
   "cell_type": "code",
   "execution_count": 49,
   "metadata": {},
   "outputs": [
    {
     "data": {
      "text/plain": [
       "status\n",
       "Finished      1105\n",
       "Lapped         693\n",
       "Mechanical     412\n",
       "Accident       190\n",
       "Name: count, dtype: int64"
      ]
     },
     "execution_count": 49,
     "metadata": {},
     "output_type": "execute_result"
    }
   ],
   "source": [
    "main_df['status'].value_counts()"
   ]
  },
  {
   "cell_type": "code",
   "execution_count": 50,
   "metadata": {},
   "outputs": [],
   "source": [
    "main_df.to_csv(\"../../data/processed-data/race_info.csv\", index=False)"
   ]
  },
  {
   "cell_type": "code",
   "execution_count": null,
   "metadata": {},
   "outputs": [],
   "source": [
    "# Finish category - new categorical variable\n",
    "data = pd.read_csv(\"../../data/processed-data/race_info.csv\")\n",
    "data['FinishCategory'] = ''\n",
    "for i in range(len(data)):\n",
    "    if data['position'][i] in [1,2,3]:\n",
    "        data['FinishCategory'][i] = \"Podium\"\n",
    "    \n",
    "    elif data['position'][i] in [4,5,6,7,8,9,10]:\n",
    "        data['FinishCategory'][i] = \"Points Finish\"\n",
    "\n",
    "    else:\n",
    "        data['FinishCategory'][i] = \"No Points\""
   ]
  },
  {
   "cell_type": "code",
   "execution_count": 52,
   "metadata": {},
   "outputs": [
    {
     "data": {
      "text/html": [
       "<div>\n",
       "<style scoped>\n",
       "    .dataframe tbody tr th:only-of-type {\n",
       "        vertical-align: middle;\n",
       "    }\n",
       "\n",
       "    .dataframe tbody tr th {\n",
       "        vertical-align: top;\n",
       "    }\n",
       "\n",
       "    .dataframe thead th {\n",
       "        text-align: right;\n",
       "    }\n",
       "</style>\n",
       "<table border=\"1\" class=\"dataframe\">\n",
       "  <thead>\n",
       "    <tr style=\"text-align: right;\">\n",
       "      <th></th>\n",
       "      <th>season</th>\n",
       "      <th>round</th>\n",
       "      <th>raceName</th>\n",
       "      <th>url</th>\n",
       "      <th>circuitName</th>\n",
       "      <th>locality</th>\n",
       "      <th>country</th>\n",
       "      <th>date</th>\n",
       "      <th>position</th>\n",
       "      <th>points</th>\n",
       "      <th>grid</th>\n",
       "      <th>laps</th>\n",
       "      <th>status</th>\n",
       "      <th>driverId</th>\n",
       "      <th>constructorName</th>\n",
       "      <th>weather_class</th>\n",
       "      <th>driverName</th>\n",
       "      <th>FinishCategory</th>\n",
       "    </tr>\n",
       "  </thead>\n",
       "  <tbody>\n",
       "    <tr>\n",
       "      <th>0</th>\n",
       "      <td>2010</td>\n",
       "      <td>1</td>\n",
       "      <td>Bahrain Grand Prix</td>\n",
       "      <td>http://en.wikipedia.org/wiki/2010_Bahrain_Gran...</td>\n",
       "      <td>Bahrain International Circuit</td>\n",
       "      <td>Sakhir</td>\n",
       "      <td>Bahrain</td>\n",
       "      <td>2010-03-14</td>\n",
       "      <td>1</td>\n",
       "      <td>25.0</td>\n",
       "      <td>3</td>\n",
       "      <td>49</td>\n",
       "      <td>Finished</td>\n",
       "      <td>alonso</td>\n",
       "      <td>Ferrari</td>\n",
       "      <td>Sunny</td>\n",
       "      <td>Fernando Alonso</td>\n",
       "      <td>Podium</td>\n",
       "    </tr>\n",
       "    <tr>\n",
       "      <th>1</th>\n",
       "      <td>2010</td>\n",
       "      <td>1</td>\n",
       "      <td>Bahrain Grand Prix</td>\n",
       "      <td>http://en.wikipedia.org/wiki/2010_Bahrain_Gran...</td>\n",
       "      <td>Bahrain International Circuit</td>\n",
       "      <td>Sakhir</td>\n",
       "      <td>Bahrain</td>\n",
       "      <td>2010-03-14</td>\n",
       "      <td>2</td>\n",
       "      <td>18.0</td>\n",
       "      <td>2</td>\n",
       "      <td>49</td>\n",
       "      <td>Finished</td>\n",
       "      <td>massa</td>\n",
       "      <td>Ferrari</td>\n",
       "      <td>Sunny</td>\n",
       "      <td>Felipe Massa</td>\n",
       "      <td>Podium</td>\n",
       "    </tr>\n",
       "    <tr>\n",
       "      <th>2</th>\n",
       "      <td>2010</td>\n",
       "      <td>1</td>\n",
       "      <td>Bahrain Grand Prix</td>\n",
       "      <td>http://en.wikipedia.org/wiki/2010_Bahrain_Gran...</td>\n",
       "      <td>Bahrain International Circuit</td>\n",
       "      <td>Sakhir</td>\n",
       "      <td>Bahrain</td>\n",
       "      <td>2010-03-14</td>\n",
       "      <td>3</td>\n",
       "      <td>15.0</td>\n",
       "      <td>4</td>\n",
       "      <td>49</td>\n",
       "      <td>Finished</td>\n",
       "      <td>hamilton</td>\n",
       "      <td>McLaren</td>\n",
       "      <td>Sunny</td>\n",
       "      <td>Lewis Hamilton</td>\n",
       "      <td>Podium</td>\n",
       "    </tr>\n",
       "    <tr>\n",
       "      <th>3</th>\n",
       "      <td>2010</td>\n",
       "      <td>1</td>\n",
       "      <td>Bahrain Grand Prix</td>\n",
       "      <td>http://en.wikipedia.org/wiki/2010_Bahrain_Gran...</td>\n",
       "      <td>Bahrain International Circuit</td>\n",
       "      <td>Sakhir</td>\n",
       "      <td>Bahrain</td>\n",
       "      <td>2010-03-14</td>\n",
       "      <td>4</td>\n",
       "      <td>12.0</td>\n",
       "      <td>1</td>\n",
       "      <td>49</td>\n",
       "      <td>Finished</td>\n",
       "      <td>vettel</td>\n",
       "      <td>Red Bull</td>\n",
       "      <td>Sunny</td>\n",
       "      <td>Sebastian Vettel</td>\n",
       "      <td>Points Finish</td>\n",
       "    </tr>\n",
       "    <tr>\n",
       "      <th>4</th>\n",
       "      <td>2010</td>\n",
       "      <td>1</td>\n",
       "      <td>Bahrain Grand Prix</td>\n",
       "      <td>http://en.wikipedia.org/wiki/2010_Bahrain_Gran...</td>\n",
       "      <td>Bahrain International Circuit</td>\n",
       "      <td>Sakhir</td>\n",
       "      <td>Bahrain</td>\n",
       "      <td>2010-03-14</td>\n",
       "      <td>5</td>\n",
       "      <td>10.0</td>\n",
       "      <td>5</td>\n",
       "      <td>49</td>\n",
       "      <td>Finished</td>\n",
       "      <td>rosberg</td>\n",
       "      <td>Mercedes</td>\n",
       "      <td>Sunny</td>\n",
       "      <td>Nico Rosberg</td>\n",
       "      <td>Points Finish</td>\n",
       "    </tr>\n",
       "  </tbody>\n",
       "</table>\n",
       "</div>"
      ],
      "text/plain": [
       "   season  round            raceName  \\\n",
       "0    2010      1  Bahrain Grand Prix   \n",
       "1    2010      1  Bahrain Grand Prix   \n",
       "2    2010      1  Bahrain Grand Prix   \n",
       "3    2010      1  Bahrain Grand Prix   \n",
       "4    2010      1  Bahrain Grand Prix   \n",
       "\n",
       "                                                 url  \\\n",
       "0  http://en.wikipedia.org/wiki/2010_Bahrain_Gran...   \n",
       "1  http://en.wikipedia.org/wiki/2010_Bahrain_Gran...   \n",
       "2  http://en.wikipedia.org/wiki/2010_Bahrain_Gran...   \n",
       "3  http://en.wikipedia.org/wiki/2010_Bahrain_Gran...   \n",
       "4  http://en.wikipedia.org/wiki/2010_Bahrain_Gran...   \n",
       "\n",
       "                     circuitName locality  country        date  position  \\\n",
       "0  Bahrain International Circuit   Sakhir  Bahrain  2010-03-14         1   \n",
       "1  Bahrain International Circuit   Sakhir  Bahrain  2010-03-14         2   \n",
       "2  Bahrain International Circuit   Sakhir  Bahrain  2010-03-14         3   \n",
       "3  Bahrain International Circuit   Sakhir  Bahrain  2010-03-14         4   \n",
       "4  Bahrain International Circuit   Sakhir  Bahrain  2010-03-14         5   \n",
       "\n",
       "   points  grid  laps    status  driverId constructorName weather_class  \\\n",
       "0    25.0     3    49  Finished    alonso         Ferrari         Sunny   \n",
       "1    18.0     2    49  Finished     massa         Ferrari         Sunny   \n",
       "2    15.0     4    49  Finished  hamilton         McLaren         Sunny   \n",
       "3    12.0     1    49  Finished    vettel        Red Bull         Sunny   \n",
       "4    10.0     5    49  Finished   rosberg        Mercedes         Sunny   \n",
       "\n",
       "         driverName FinishCategory  \n",
       "0   Fernando Alonso         Podium  \n",
       "1      Felipe Massa         Podium  \n",
       "2    Lewis Hamilton         Podium  \n",
       "3  Sebastian Vettel  Points Finish  \n",
       "4      Nico Rosberg  Points Finish  "
      ]
     },
     "execution_count": 52,
     "metadata": {},
     "output_type": "execute_result"
    }
   ],
   "source": [
    "data.head()"
   ]
  },
  {
   "cell_type": "code",
   "execution_count": 53,
   "metadata": {},
   "outputs": [],
   "source": [
    "data.to_csv(\"../../data/processed-data/race_info.csv\", index=False)"
   ]
  },
  {
   "cell_type": "code",
   "execution_count": 25,
   "metadata": {},
   "outputs": [
    {
     "data": {
      "text/html": [
       "<div>\n",
       "<style scoped>\n",
       "    .dataframe tbody tr th:only-of-type {\n",
       "        vertical-align: middle;\n",
       "    }\n",
       "\n",
       "    .dataframe tbody tr th {\n",
       "        vertical-align: top;\n",
       "    }\n",
       "\n",
       "    .dataframe thead th {\n",
       "        text-align: right;\n",
       "    }\n",
       "</style>\n",
       "<table border=\"1\" class=\"dataframe\">\n",
       "  <thead>\n",
       "    <tr style=\"text-align: right;\">\n",
       "      <th></th>\n",
       "      <th>Year</th>\n",
       "      <th>Grand Prix</th>\n",
       "      <th>Track Length (m)</th>\n",
       "      <th>Max Speed (km/h)</th>\n",
       "      <th>Full Throttle (%)</th>\n",
       "      <th>Number of Corners</th>\n",
       "      <th>Number of Straights</th>\n",
       "    </tr>\n",
       "  </thead>\n",
       "  <tbody>\n",
       "    <tr>\n",
       "      <th>0</th>\n",
       "      <td>2020</td>\n",
       "      <td>Pre-Season Test 1</td>\n",
       "      <td>4312.438437</td>\n",
       "      <td>323</td>\n",
       "      <td>70.673953</td>\n",
       "      <td>1</td>\n",
       "      <td>4</td>\n",
       "    </tr>\n",
       "    <tr>\n",
       "      <th>1</th>\n",
       "      <td>2020</td>\n",
       "      <td>Pre-Season Test 2</td>\n",
       "      <td>4312.438437</td>\n",
       "      <td>323</td>\n",
       "      <td>70.673953</td>\n",
       "      <td>1</td>\n",
       "      <td>4</td>\n",
       "    </tr>\n",
       "    <tr>\n",
       "      <th>2</th>\n",
       "      <td>2020</td>\n",
       "      <td>Austrian Grand Prix</td>\n",
       "      <td>4312.438437</td>\n",
       "      <td>323</td>\n",
       "      <td>70.673953</td>\n",
       "      <td>1</td>\n",
       "      <td>4</td>\n",
       "    </tr>\n",
       "    <tr>\n",
       "      <th>3</th>\n",
       "      <td>2020</td>\n",
       "      <td>Styrian Grand Prix</td>\n",
       "      <td>4292.610384</td>\n",
       "      <td>300</td>\n",
       "      <td>46.556886</td>\n",
       "      <td>2</td>\n",
       "      <td>6</td>\n",
       "    </tr>\n",
       "    <tr>\n",
       "      <th>4</th>\n",
       "      <td>2020</td>\n",
       "      <td>Hungarian Grand Prix</td>\n",
       "      <td>4348.049386</td>\n",
       "      <td>318</td>\n",
       "      <td>58.114374</td>\n",
       "      <td>0</td>\n",
       "      <td>6</td>\n",
       "    </tr>\n",
       "  </tbody>\n",
       "</table>\n",
       "</div>"
      ],
      "text/plain": [
       "   Year            Grand Prix  Track Length (m)  Max Speed (km/h)  \\\n",
       "0  2020     Pre-Season Test 1       4312.438437               323   \n",
       "1  2020     Pre-Season Test 2       4312.438437               323   \n",
       "2  2020   Austrian Grand Prix       4312.438437               323   \n",
       "3  2020    Styrian Grand Prix       4292.610384               300   \n",
       "4  2020  Hungarian Grand Prix       4348.049386               318   \n",
       "\n",
       "   Full Throttle (%)  Number of Corners  Number of Straights  \n",
       "0          70.673953                  1                    4  \n",
       "1          70.673953                  1                    4  \n",
       "2          70.673953                  1                    4  \n",
       "3          46.556886                  2                    6  \n",
       "4          58.114374                  0                    6  "
      ]
     },
     "execution_count": 25,
     "metadata": {},
     "output_type": "execute_result"
    }
   ],
   "source": [
    "# race track features\n",
    "data = pd.read_csv(\"../../data/raw-data/circuit_data/merged_circuit_features.csv\")\n",
    "data.head()"
   ]
  },
  {
   "cell_type": "code",
   "execution_count": 26,
   "metadata": {},
   "outputs": [
    {
     "data": {
      "text/plain": [
       "Year                   0\n",
       "Grand Prix             0\n",
       "Track Length (m)       0\n",
       "Max Speed (km/h)       0\n",
       "Full Throttle (%)      0\n",
       "Number of Corners      0\n",
       "Number of Straights    0\n",
       "dtype: int64"
      ]
     },
     "execution_count": 26,
     "metadata": {},
     "output_type": "execute_result"
    }
   ],
   "source": [
    "data.isnull().sum()"
   ]
  },
  {
   "cell_type": "code",
   "execution_count": 27,
   "metadata": {},
   "outputs": [],
   "source": [
    "req_cols = [\"Track Length (m)\", \"Max Speed (km/h)\", \"Full Throttle (%)\",\"Number of Corners\", \"Number of Straights\"]\n",
    "scaler = StandardScaler()\n",
    "\n",
    "# Apply the scaler to the dataframe\n",
    "data[req_cols] = scaler.fit_transform(data[req_cols])"
   ]
  },
  {
   "cell_type": "code",
   "execution_count": 31,
   "metadata": {},
   "outputs": [
    {
     "data": {
      "text/html": [
       "<div>\n",
       "<style scoped>\n",
       "    .dataframe tbody tr th:only-of-type {\n",
       "        vertical-align: middle;\n",
       "    }\n",
       "\n",
       "    .dataframe tbody tr th {\n",
       "        vertical-align: top;\n",
       "    }\n",
       "\n",
       "    .dataframe thead th {\n",
       "        text-align: right;\n",
       "    }\n",
       "</style>\n",
       "<table border=\"1\" class=\"dataframe\">\n",
       "  <thead>\n",
       "    <tr style=\"text-align: right;\">\n",
       "      <th></th>\n",
       "      <th>Year</th>\n",
       "      <th>Grand Prix</th>\n",
       "      <th>Track Length (m)</th>\n",
       "      <th>Max Speed (km/h)</th>\n",
       "      <th>Full Throttle (%)</th>\n",
       "      <th>Number of Corners</th>\n",
       "      <th>Number of Straights</th>\n",
       "    </tr>\n",
       "  </thead>\n",
       "  <tbody>\n",
       "    <tr>\n",
       "      <th>0</th>\n",
       "      <td>2020</td>\n",
       "      <td>Pre-Season Test 1</td>\n",
       "      <td>-1.000607</td>\n",
       "      <td>-0.115670</td>\n",
       "      <td>1.059667</td>\n",
       "      <td>-0.789651</td>\n",
       "      <td>-0.938394</td>\n",
       "    </tr>\n",
       "    <tr>\n",
       "      <th>1</th>\n",
       "      <td>2020</td>\n",
       "      <td>Pre-Season Test 2</td>\n",
       "      <td>-1.000607</td>\n",
       "      <td>-0.115670</td>\n",
       "      <td>1.059667</td>\n",
       "      <td>-0.789651</td>\n",
       "      <td>-0.938394</td>\n",
       "    </tr>\n",
       "    <tr>\n",
       "      <th>2</th>\n",
       "      <td>2020</td>\n",
       "      <td>Austrian Grand Prix</td>\n",
       "      <td>-1.000607</td>\n",
       "      <td>-0.115670</td>\n",
       "      <td>1.059667</td>\n",
       "      <td>-0.789651</td>\n",
       "      <td>-0.938394</td>\n",
       "    </tr>\n",
       "    <tr>\n",
       "      <th>3</th>\n",
       "      <td>2020</td>\n",
       "      <td>Styrian Grand Prix</td>\n",
       "      <td>-1.024865</td>\n",
       "      <td>-1.840980</td>\n",
       "      <td>-1.757479</td>\n",
       "      <td>-0.275003</td>\n",
       "      <td>-0.037811</td>\n",
       "    </tr>\n",
       "    <tr>\n",
       "      <th>4</th>\n",
       "      <td>2020</td>\n",
       "      <td>Hungarian Grand Prix</td>\n",
       "      <td>-0.957039</td>\n",
       "      <td>-0.490737</td>\n",
       "      <td>-0.407433</td>\n",
       "      <td>-1.304300</td>\n",
       "      <td>-0.037811</td>\n",
       "    </tr>\n",
       "  </tbody>\n",
       "</table>\n",
       "</div>"
      ],
      "text/plain": [
       "   Year            Grand Prix  Track Length (m)  Max Speed (km/h)  \\\n",
       "0  2020     Pre-Season Test 1         -1.000607         -0.115670   \n",
       "1  2020     Pre-Season Test 2         -1.000607         -0.115670   \n",
       "2  2020   Austrian Grand Prix         -1.000607         -0.115670   \n",
       "3  2020    Styrian Grand Prix         -1.024865         -1.840980   \n",
       "4  2020  Hungarian Grand Prix         -0.957039         -0.490737   \n",
       "\n",
       "   Full Throttle (%)  Number of Corners  Number of Straights  \n",
       "0           1.059667          -0.789651            -0.938394  \n",
       "1           1.059667          -0.789651            -0.938394  \n",
       "2           1.059667          -0.789651            -0.938394  \n",
       "3          -1.757479          -0.275003            -0.037811  \n",
       "4          -0.407433          -1.304300            -0.037811  "
      ]
     },
     "execution_count": 31,
     "metadata": {},
     "output_type": "execute_result"
    }
   ],
   "source": [
    "data.head()"
   ]
  },
  {
   "cell_type": "code",
   "execution_count": 32,
   "metadata": {},
   "outputs": [],
   "source": [
    "data.to_csv(\"../../data/processed-data/race_track_features.csv\")    "
   ]
  },
  {
   "cell_type": "markdown",
   "metadata": {},
   "source": [
    "## Pitstop data"
   ]
  },
  {
   "cell_type": "code",
   "execution_count": 54,
   "metadata": {},
   "outputs": [
    {
     "data": {
      "text/html": [
       "<div>\n",
       "<style scoped>\n",
       "    .dataframe tbody tr th:only-of-type {\n",
       "        vertical-align: middle;\n",
       "    }\n",
       "\n",
       "    .dataframe tbody tr th {\n",
       "        vertical-align: top;\n",
       "    }\n",
       "\n",
       "    .dataframe thead th {\n",
       "        text-align: right;\n",
       "    }\n",
       "</style>\n",
       "<table border=\"1\" class=\"dataframe\">\n",
       "  <thead>\n",
       "    <tr style=\"text-align: right;\">\n",
       "      <th></th>\n",
       "      <th>Year</th>\n",
       "      <th>Round</th>\n",
       "      <th>RaceName</th>\n",
       "      <th>DriverID</th>\n",
       "      <th>Lap</th>\n",
       "      <th>Stop</th>\n",
       "      <th>Time</th>\n",
       "      <th>Duration</th>\n",
       "    </tr>\n",
       "  </thead>\n",
       "  <tbody>\n",
       "    <tr>\n",
       "      <th>0</th>\n",
       "      <td>2011</td>\n",
       "      <td>1</td>\n",
       "      <td>Australian Grand Prix</td>\n",
       "      <td>alguersuari</td>\n",
       "      <td>1</td>\n",
       "      <td>1</td>\n",
       "      <td>17:05:23</td>\n",
       "      <td>26.898</td>\n",
       "    </tr>\n",
       "    <tr>\n",
       "      <th>1</th>\n",
       "      <td>2011</td>\n",
       "      <td>1</td>\n",
       "      <td>Australian Grand Prix</td>\n",
       "      <td>michael_schumacher</td>\n",
       "      <td>1</td>\n",
       "      <td>1</td>\n",
       "      <td>17:05:52</td>\n",
       "      <td>25.021</td>\n",
       "    </tr>\n",
       "    <tr>\n",
       "      <th>2</th>\n",
       "      <td>2011</td>\n",
       "      <td>1</td>\n",
       "      <td>Australian Grand Prix</td>\n",
       "      <td>webber</td>\n",
       "      <td>11</td>\n",
       "      <td>1</td>\n",
       "      <td>17:20:48</td>\n",
       "      <td>23.426</td>\n",
       "    </tr>\n",
       "    <tr>\n",
       "      <th>3</th>\n",
       "      <td>2011</td>\n",
       "      <td>1</td>\n",
       "      <td>Australian Grand Prix</td>\n",
       "      <td>alonso</td>\n",
       "      <td>12</td>\n",
       "      <td>1</td>\n",
       "      <td>17:22:34</td>\n",
       "      <td>23.251</td>\n",
       "    </tr>\n",
       "    <tr>\n",
       "      <th>4</th>\n",
       "      <td>2011</td>\n",
       "      <td>1</td>\n",
       "      <td>Australian Grand Prix</td>\n",
       "      <td>massa</td>\n",
       "      <td>13</td>\n",
       "      <td>1</td>\n",
       "      <td>17:24:10</td>\n",
       "      <td>23.842</td>\n",
       "    </tr>\n",
       "  </tbody>\n",
       "</table>\n",
       "</div>"
      ],
      "text/plain": [
       "   Year  Round               RaceName            DriverID  Lap  Stop  \\\n",
       "0  2011      1  Australian Grand Prix         alguersuari    1     1   \n",
       "1  2011      1  Australian Grand Prix  michael_schumacher    1     1   \n",
       "2  2011      1  Australian Grand Prix              webber   11     1   \n",
       "3  2011      1  Australian Grand Prix              alonso   12     1   \n",
       "4  2011      1  Australian Grand Prix               massa   13     1   \n",
       "\n",
       "       Time Duration  \n",
       "0  17:05:23   26.898  \n",
       "1  17:05:52   25.021  \n",
       "2  17:20:48   23.426  \n",
       "3  17:22:34   23.251  \n",
       "4  17:24:10   23.842  "
      ]
     },
     "execution_count": 54,
     "metadata": {},
     "output_type": "execute_result"
    }
   ],
   "source": [
    "df = pd.read_csv(\"../../data/raw-data/pitstop_data.csv\")\n",
    "df.head()"
   ]
  },
  {
   "cell_type": "code",
   "execution_count": 60,
   "metadata": {},
   "outputs": [
    {
     "name": "stdout",
     "output_type": "stream",
     "text": [
      "   Year  Round               RaceName     DriverID  Lap1  Lap2  Lap3  Lap4  \\\n",
      "0  2011      1  Australian Grand Prix  alguersuari     1    17    35     0   \n",
      "1  2011      1  Australian Grand Prix       alonso    12    27    42     0   \n",
      "\n",
      "   Lap5  Lap6  ...  Time5  Time6  Time7  Duration1  Duration2  Duration3  \\\n",
      "0     0     0  ...      0      0      0     26.898     24.463     26.348   \n",
      "1     0     0  ...      0      0      0     23.251     24.733     24.181   \n",
      "\n",
      "   Duration4  Duration5 Duration6 Duration7  \n",
      "0          0          0         0         0  \n",
      "1          0          0         0         0  \n",
      "\n",
      "[2 rows x 32 columns]\n"
     ]
    }
   ],
   "source": [
    "transformed = (\n",
    "    df.assign(PitStopNumber=lambda x: x.groupby(['Year', 'Round', 'RaceName', 'DriverID']).cumcount() + 1)\n",
    "    .pivot(index=['Year', 'Round', 'RaceName', 'DriverID'], columns='PitStopNumber', values=['Lap', 'Stop', 'Time', 'Duration'])\n",
    ")\n",
    "\n",
    "# Flatten the multi-index columns\n",
    "transformed.columns = [f\"{col[0]}{col[1]}\" for col in transformed.columns]\n",
    "\n",
    "# Reset index to turn it into a DataFrame\n",
    "transformed.reset_index(inplace=True)\n",
    "\n",
    "transformed = transformed.fillna(0)\n",
    "# Save or print the transformed data\n",
    "print(transformed.head(2))"
   ]
  },
  {
   "cell_type": "code",
   "execution_count": 56,
   "metadata": {},
   "outputs": [
    {
     "data": {
      "text/plain": [
       "(5118, 32)"
      ]
     },
     "execution_count": 56,
     "metadata": {},
     "output_type": "execute_result"
    }
   ],
   "source": [
    "transformed.shape"
   ]
  },
  {
   "cell_type": "code",
   "execution_count": null,
   "metadata": {},
   "outputs": [],
   "source": []
  }
 ],
 "metadata": {
  "kernelspec": {
   "display_name": "base",
   "language": "python",
   "name": "python3"
  },
  "language_info": {
   "codemirror_mode": {
    "name": "ipython",
    "version": 3
   },
   "file_extension": ".py",
   "mimetype": "text/x-python",
   "name": "python",
   "nbconvert_exporter": "python",
   "pygments_lexer": "ipython3",
   "version": "3.10.6"
  }
 },
 "nbformat": 4,
 "nbformat_minor": 2
}
