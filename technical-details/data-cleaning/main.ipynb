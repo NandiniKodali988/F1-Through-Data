{
 "cells": [
  {
   "cell_type": "markdown",
   "metadata": {},
   "source": [
    "---\n",
    "title: \"Data Cleaning\"\n",
    "format:\n",
    "    html: \n",
    "        code-fold: false\n",
    "---"
   ]
  },
  {
   "cell_type": "markdown",
   "metadata": {},
   "source": [
    "<!-- After digesting the instructions, you can delete this cell, these are assignment instructions and do not need to be included in your final submission.  -->\n",
    "\n",
    "{{< include instructions.qmd >}} "
   ]
  },
  {
   "cell_type": "markdown",
   "metadata": {},
   "source": [
    "# Code \n",
    "\n",
    "Provide the source code used for this section of the project here.\n",
    "\n",
    "If you're using a package for code organization, you can import it at this point. However, make sure that the **actual workflow steps**—including data processing, analysis, and other key tasks—are conducted and clearly demonstrated on this page. The goal is to show the technical flow of your project, highlighting how the code is executed to achieve your results.\n",
    "\n",
    "If relevant, link to additional documentation or external references that explain any complex components. This section should give readers a clear view of how the project is implemented from a technical perspective.\n",
    "\n",
    "Remember, this page is a technical narrative, NOT just a notebook with a collection of code cells, include in-line Prose, to describe what is going on."
   ]
  },
  {
   "cell_type": "markdown",
   "metadata": {},
   "source": [
    "## Clean the News Data"
   ]
  },
  {
   "cell_type": "code",
   "execution_count": 22,
   "metadata": {},
   "outputs": [],
   "source": [
    "# import required libraries\n",
    "import os\n",
    "import json\n",
    "import re"
   ]
  },
  {
   "cell_type": "code",
   "execution_count": 23,
   "metadata": {},
   "outputs": [],
   "source": [
    "# function for cleaning the text\n",
    "\n",
    "def string_cleaner(input_string):\n",
    "    try:\n",
    "        out = re.sub(r\"\"\"\n",
    "                    [,.;@#?!&$-]+\n",
    "                    \\ *          \n",
    "                    \"\"\",\n",
    "                    \" \",\n",
    "                    input_string, flags=re.VERBOSE)\n",
    "        out = re.sub('[’.]+', '', out)\n",
    "        out = re.sub(r'\\\\u[0-9a-fA-F]{4}', '', out)\n",
    "        out = re.sub(r'\\s+', ' ', out)\n",
    "        out = out.lower()\n",
    "    except:\n",
    "        print(\"ERROR\")\n",
    "        out = ''\n",
    "    return out"
   ]
  },
  {
   "cell_type": "code",
   "execution_count": 24,
   "metadata": {},
   "outputs": [],
   "source": [
    "# Function to clean news data\n",
    "def clean_news_data(raw_data_dir, clean_data_dir):\n",
    "    \n",
    "    # Iterate through raw data files\n",
    "    for file_name in os.listdir(raw_data_dir):\n",
    "        if file_name.endswith(\"_raw_text.json\"):  # Process only raw data files\n",
    "            \n",
    "            # Load the raw data\n",
    "            raw_file_path = os.path.join(raw_data_dir, file_name)\n",
    "            with open(raw_file_path, 'r') as raw_file:\n",
    "                raw_data = json.load(raw_file)\n",
    "            \n",
    "            # Clean the data\n",
    "            clean_data = {}\n",
    "            for article in raw_data:\n",
    "                title = article.get('title', '')\n",
    "                description = article.get('description', '')\n",
    "                \n",
    "                if title and description:\n",
    "                    clean_title = string_cleaner(title)\n",
    "                    clean_description = string_cleaner(description)\n",
    "                    clean_data[clean_title] = clean_description\n",
    "            \n",
    "            # Save the cleaned data to a new file\n",
    "            clean_file_name = file_name.replace(\"_raw_text.json\", \"_clean_news.json\")\n",
    "            clean_file_path = os.path.join(clean_data_dir, clean_file_name)\n",
    "            with open(clean_file_path, 'w') as clean_file:\n",
    "                json.dump(clean_data, clean_file, indent=4)"
   ]
  },
  {
   "cell_type": "code",
   "execution_count": 25,
   "metadata": {},
   "outputs": [],
   "source": [
    "# Define directories\n",
    "\n",
    "# Directory with raw data files\n",
    "raw_data_dir = \"../../data/raw-data/News_Drivers\"  \n",
    "\n",
    "# Directory for cleaned data files\n",
    "clean_data_dir = \"../../data/processed-data/News_drivers\"  \n"
   ]
  },
  {
   "cell_type": "code",
   "execution_count": 26,
   "metadata": {},
   "outputs": [],
   "source": [
    "# Clean the news data\n",
    "clean_news_data(raw_data_dir, clean_data_dir)"
   ]
  },
  {
   "cell_type": "code",
   "execution_count": null,
   "metadata": {},
   "outputs": [],
   "source": []
  }
 ],
 "metadata": {
  "kernelspec": {
   "display_name": "base",
   "language": "python",
   "name": "python3"
  },
  "language_info": {
   "codemirror_mode": {
    "name": "ipython",
    "version": 3
   },
   "file_extension": ".py",
   "mimetype": "text/x-python",
   "name": "python",
   "nbconvert_exporter": "python",
   "pygments_lexer": "ipython3",
   "version": "3.10.6"
  }
 },
 "nbformat": 4,
 "nbformat_minor": 2
}
